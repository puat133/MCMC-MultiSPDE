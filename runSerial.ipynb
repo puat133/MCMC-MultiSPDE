{
 "cells": [
  {
   "cell_type": "code",
   "execution_count": 1,
   "metadata": {},
   "outputs": [],
   "source": [
    "import mcmc.simulation as s\n",
    "import mcmc.plotting as p\n",
    "import matplotlib.pyplot as plt\n",
    "import numpy as np\n",
    "import argparse\n",
    "import parser_help as ph"
   ]
  },
  {
   "cell_type": "code",
   "execution_count": null,
   "metadata": {},
   "outputs": [
    {
     "name": "stdout",
     "output_type": "stream",
     "text": [
      "Starting sqrt beta for Layer 0 is 10000000.0\n",
      "Starting sqrt beta for Layer 1 is 20.000000000000004\n",
      "Starting sqrt beta for Layer 2 is 200.00000000000003\n",
      "Time Remaining 001-1 day(s),05:12:28- Acceptance Rate 25.77% - Progress: |--------------------------------------------------| 0.9% Complete\r"
     ]
    }
   ],
   "source": [
    "\n",
    "sim = s.Simulation(n_layers=3,n_samples =1000000,n =64,beta =1,num =2**8,\n",
    "                    kappa =1e17,sigma_0 =5e6,sigma_v =1e2,sigma_scaling=1e-1,evaluation_interval =100,printProgress=True,\n",
    "                    seed=1,burn_percentage =15,enable_beta_feedback=True,pcn_variant=\"dunlop\",measurement_signal_type='smooth_discontinuous')\n",
    "for i in range(sim.pcn.n_layers):\n",
    "    print('Starting sqrt beta for Layer {0} is {1}'.format(i,sim.Layers[i].sqrt_beta))\n",
    "sim.pcn.beta_feedback_gain = 2.1\n",
    "# sim.pcn.beta_feedback_gain = 3.15\n",
    "sim.run()\n",
    "sim.analyze()\n",
    "p.plotResult(sim,include_history=True,useLaTeX=False,showFigures=False)"
   ]
  },
  {
   "cell_type": "code",
   "execution_count": 4,
   "metadata": {},
   "outputs": [
    {
     "name": "stdout",
     "output_type": "stream",
     "text": [
      "New sqrt beta for Layer 0 is 209764.06922301307\n",
      "New sqrt beta for Layer 1 is 2.463332727634521\n",
      "New sqrt beta for Layer 2 is 4.0271184666666215\n"
     ]
    }
   ],
   "source": [
    "for i in range(sim.pcn.n_layers):\n",
    "    print('New sqrt beta for Layer {0} is {1}'.format(i,sim.Layers[i].sqrt_beta))"
   ]
  },
  {
   "cell_type": "code",
   "execution_count": 15,
   "metadata": {},
   "outputs": [
    {
     "data": {
      "text/plain": [
       "12.461385282356298"
      ]
     },
     "execution_count": 15,
     "metadata": {},
     "output_type": "execute_result"
    }
   ],
   "source": [
    "10000000/802479\n"
   ]
  },
  {
   "cell_type": "code",
   "execution_count": null,
   "metadata": {},
   "outputs": [],
   "source": []
  }
 ],
 "metadata": {
  "kernelspec": {
   "display_name": "Python 3/anaconda3/latest",
   "language": "python",
   "name": "python3"
  },
  "language_info": {
   "codemirror_mode": {
    "name": "ipython",
    "version": 3
   },
   "file_extension": ".py",
   "mimetype": "text/x-python",
   "name": "python",
   "nbconvert_exporter": "python",
   "pygments_lexer": "ipython3",
   "version": "3.6.8"
  }
 },
 "nbformat": 4,
 "nbformat_minor": 4
}
