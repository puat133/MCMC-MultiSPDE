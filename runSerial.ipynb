{
 "cells": [
  {
   "cell_type": "code",
   "execution_count": 2,
   "metadata": {},
   "outputs": [],
   "source": [
    "import mcmc.simulation as s\n",
    "import mcmc.plotting as p\n",
    "import matplotlib.pyplot as plt\n",
    "import numpy as np\n",
    "import argparse\n",
    "import parser_help as ph"
   ]
  },
  {
   "cell_type": "code",
   "execution_count": 3,
   "metadata": {},
   "outputs": [
    {
     "name": "stdout",
     "output_type": "stream",
     "text": [
      "Starting sqrt beta for Layer 0 is 10000000.0\n",
      "Starting sqrt beta for Layer 1 is 20.000000000000004\n",
      "Starting sqrt beta for Layer 2 is 200.00000000000003\n",
      "Time Remaining 001-1 day(s),00:00:00- Acceptance Rate 6.80% - Progress: |██████████████████████████████████████████████████| 100.0% Complete\n",
      "Iteration Completed in 001 day(s),00:00:17- Acceptance Rate 6.80% - Progress: |██████████████████████████████████████████████████| 100.0% Complete\n",
      "Plotting complete\n"
     ]
    },
    {
     "data": {
      "text/plain": [
       "<Figure size 432x288 with 0 Axes>"
      ]
     },
     "metadata": {},
     "output_type": "display_data"
    }
   ],
   "source": [
    "\n",
    "sim = s.Simulation(n_layers=3,n_samples =1000,n =64,beta =1,num =2**8,\n",
    "                    kappa =1e17,sigma_0 =5e6,sigma_v =1e2,sigma_scaling=1e-1,evaluation_interval =100,printProgress=True,\n",
    "                    seed=1,burn_percentage =15,enable_beta_feedback=True,pcn_variant=\"dunlop\",measurement_signal_type='smooth_discontinuous')\n",
    "for i in range(sim.pcn.n_layers):\n",
    "    print('Starting sqrt beta for Layer {0} is {1}'.format(i,sim.Layers[i].sqrt_beta))\n",
    "sim.pcn.beta_feedback_gain = 2.1\n",
    "sim.pcn_step_sqrtBetas = 3e-1\n",
    "sim.pcn.stdev_sqrtBetas = 5e-2*sim.pcn.Layers_sqrtBetas\n",
    "# sim.pcn.beta_feedback_gain = 3.15\n",
    "sim.run()\n",
    "sim.analyze()\n",
    "p.plotResult(sim,include_history=True,useLaTeX=False,showFigures=False)\n",
    "ratio = sim.pcn.sqrtBetas_history[0,0]/sim.sigma_0\n",
    "sigmas_history = sim.pcn.sqrtBetas_history/ratio\n",
    "sigma_scalling = (sigmas_history[-1,1]/sigmas_history[-1,-1])"
   ]
  },
  {
   "cell_type": "code",
   "execution_count": 11,
   "metadata": {},
   "outputs": [
    {
     "data": {
      "text/plain": [
       "[<matplotlib.lines.Line2D at 0x2b6b7abcc0f0>,\n",
       " <matplotlib.lines.Line2D at 0x2b6b7b081ba8>,\n",
       " <matplotlib.lines.Line2D at 0x2b6b7b081dd8>]"
      ]
     },
     "execution_count": 11,
     "metadata": {},
     "output_type": "execute_result"
    },
    {
     "data": {
      "image/png": "[encoded data removed]",
      "text/plain": [
       "<Figure size 432x288 with 1 Axes>"
      ]
     },
     "metadata": {},
     "output_type": "display_data"
    }
   ],
   "source": [
    "plt.semilogy(sim.pcn.sqrtBetas_history)"
   ]
  },
  {
   "cell_type": "code",
   "execution_count": 22,
   "metadata": {},
   "outputs": [
    {
     "name": "stdout",
     "output_type": "stream",
     "text": [
      "Starting sqrt beta for Layer 0 is 57384.8547407564\n",
      "Starting sqrt beta for Layer 1 is 0.1511712386532289\n",
      "Starting sqrt beta for Layer 2 is 1.9340253331017978\n",
      "Time Remaining 001-1 day(s),00:00:00- Acceptance Rate 22.84% - Progress: |██████████████████████████████████████████████████| 100.0% Complete\n",
      "Iteration Completed in 001 day(s),00:03:02- Acceptance Rate 22.84% - Progress: |██████████████████████████████████████████████████| 100.0% Complete\n",
      "Plotting complete\n"
     ]
    },
    {
     "data": {
      "text/plain": [
       "<Figure size 432x288 with 0 Axes>"
      ]
     },
     "metadata": {},
     "output_type": "display_data"
    }
   ],
   "source": [
    "sim = s.Simulation(n_layers=3,n_samples =10000,n =64,beta =1,num =2**8,\n",
    "                    kappa =1e17,sigma_0 =sigmas_history[-1,0],sigma_v =sigmas_history[-1,-1],sigma_scaling=sigma_scalling,evaluation_interval =100,printProgress=True,\n",
    "                    seed=1,burn_percentage =15,enable_beta_feedback=True,pcn_variant=\"dunlop\",measurement_signal_type='smooth_discontinuous')\n",
    "for i in range(sim.pcn.n_layers):\n",
    "    print('Starting sqrt beta for Layer {0} is {1}'.format(i,sim.Layers[i].sqrt_beta))\n",
    "sim.pcn.beta_feedback_gain = 2.1\n",
    "# sim.pcn.beta_feedback_gain = 3.15\n",
    "sim.run()\n",
    "sim.analyze()\n",
    "p.plotResult(sim,include_history=True,useLaTeX=False,showFigures=False)\n",
    "ratio = sim.pcn.sqrtBetas_history[0,0]/sim.sigma_0\n",
    "sigmas_history = sim.pcn.sqrtBetas_history/ratio\n",
    "sigma_scalling = (sigmas_history[-1,1]/sigmas_history[-1,-1])"
   ]
  },
  {
   "cell_type": "code",
   "execution_count": 23,
   "metadata": {},
   "outputs": [
    {
     "data": {
      "image/png": "[encoded data removed]",
      "text/plain": [
       "<Figure size 432x288 with 1 Axes>"
      ]
     },
     "metadata": {},
     "output_type": "display_data"
    }
   ],
   "source": [
    "plt.semilogy(sim.pcn.sqrtBetas_history)\n",
    "ratio = sim.pcn.sqrtBetas_history[0,0]/sim.sigma_0"
   ]
  },
  {
   "cell_type": "code",
   "execution_count": null,
   "metadata": {},
   "outputs": [],
   "source": []
  }
 ],
 "metadata": {
  "kernelspec": {
   "display_name": "Python 3/anaconda3/latest",
   "language": "python",
   "name": "python3"
  },
  "language_info": {
   "codemirror_mode": {
    "name": "ipython",
    "version": 3
   },
   "file_extension": ".py",
   "mimetype": "text/x-python",
   "name": "python",
   "nbconvert_exporter": "python",
   "pygments_lexer": "ipython3",
   "version": "3.6.8"
  }
 },
 "nbformat": 4,
 "nbformat_minor": 4
}
