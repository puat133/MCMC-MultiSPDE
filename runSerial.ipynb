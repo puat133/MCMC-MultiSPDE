{
 "cells": [
  {
   "cell_type": "code",
   "execution_count": 1,
   "metadata": {},
   "outputs": [],
   "source": [
    "import mcmc.simulation as s\n",
    "import mcmc.plotting as p\n",
    "import matplotlib.pyplot as plt\n",
    "import numpy as np\n",
    "import argparse\n",
    "import parser_help as ph"
   ]
  },
  {
   "cell_type": "code",
   "execution_count": null,
   "metadata": {},
   "outputs": [
    {
     "name": "stdout",
     "output_type": "stream",
     "text": [
      "Time Remaining 001-1 day(s),00:18:43- Acceptance Rate 25.71% - Progress: |█-------------------------------------------------| 2.1% Complete\r"
     ]
    }
   ],
   "source": [
    "\n",
    "sim = s.Simulation(n_layers=3,n_samples =100000,n =64,beta =1,num =2**8,\n",
    "                    kappa =1e17,sigma_0 =5e3,sigma_v =1e2,sigma_scaling=1e-1,evaluation_interval =100,printProgress=True,\n",
    "                    seed=1,burn_percentage =0,enable_beta_feedback=True,pcn_variant=\"dunlop\",measurement_signal_type='smooth_discontinuous')\n",
    "sim.pcn.beta_feedback_gain = 2.1\n",
    "sim.run()\n",
    "sim.analyze()\n",
    "p.plotResult(sim,include_history=True,useLaTeX=False,showFigures=False)"
   ]
  },
  {
   "cell_type": "code",
   "execution_count": null,
   "metadata": {},
   "outputs": [],
   "source": []
  }
 ],
 "metadata": {
  "kernelspec": {
   "display_name": "Python 3/anaconda3/latest",
   "language": "python",
   "name": "python3"
  },
  "language_info": {
   "codemirror_mode": {
    "name": "ipython",
    "version": 3
   },
   "file_extension": ".py",
   "mimetype": "text/x-python",
   "name": "python",
   "nbconvert_exporter": "python",
   "pygments_lexer": "ipython3",
   "version": "3.6.8"
  }
 },
 "nbformat": 4,
 "nbformat_minor": 4
}
